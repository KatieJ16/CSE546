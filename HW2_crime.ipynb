{
 "cells": [
  {
   "cell_type": "code",
   "execution_count": 31,
   "metadata": {},
   "outputs": [],
   "source": [
    "import numpy as np\n",
    "import matplotlib.pyplot as plt\n",
    "import pandas as pd"
   ]
  },
  {
   "cell_type": "code",
   "execution_count": 32,
   "metadata": {},
   "outputs": [
    {
     "name": "stdout",
     "output_type": "stream",
     "text": [
      "(1595, 95)\n",
      "(1595,)\n",
      "(399,)\n",
      "[3, 12, 7, 5, 1]\n"
     ]
    }
   ],
   "source": [
    "#Get the data\n",
    "df_train = pd.read_table(\"crime-train.txt\")\n",
    "df_test = pd.read_table(\"crime-test.txt\")\n",
    "\n",
    "y = df_train[\"ViolentCrimesPerPop\"].values\n",
    "y_test = df_test[\"ViolentCrimesPerPop\"].values\n",
    "x = df_train.drop(\"ViolentCrimesPerPop\", axis = 1).values\n",
    "x_test = df_test.drop(\"ViolentCrimesPerPop\", axis = 1).values\n",
    "(n,d) = x_train.shape\n",
    "print(x_train.shape)\n",
    "print(y_train.shape)\n",
    "print(y_test.shape)\n",
    "idx1 = df_train.drop(\"ViolentCrimesPerPop\", axis = 1).columns.get_loc(\"agePct12t29\")\n",
    "idx2 = df_train.drop(\"ViolentCrimesPerPop\", axis = 1).columns.get_loc(\"pctWSocSec\")\n",
    "idx3 = df_train.drop(\"ViolentCrimesPerPop\", axis = 1).columns.get_loc(\"pctUrban\")\n",
    "idx4 = df_train.drop(\"ViolentCrimesPerPop\", axis = 1).columns.get_loc(\"agePct65up\")\n",
    "idx5 = df_train.drop(\"ViolentCrimesPerPop\", axis = 1).columns.get_loc(\"householdsize\")\n",
    "idx = [idx1, idx2, idx3, idx4, idx5]\n",
    "print(idx)"
   ]
  },
  {
   "cell_type": "code",
   "execution_count": 33,
   "metadata": {},
   "outputs": [],
   "source": [
    "def CDA_better(x, y, lam, delta = 10e-8):\n",
    "    going = True\n",
    "    (n,d) = x.shape\n",
    "    w = np.ones((d,))\n",
    "    w_prev = np.copy(w)\n",
    "    count = 0\n",
    "    while going:\n",
    "        b = np.mean(y - w@x.T)\n",
    "        a = 2*np.sum(np.abs(x)**2,axis=0)\n",
    "        for k in range(d):\n",
    "            x_new = np.append(x[:,:k], x[:,k+1:], axis = 1)\n",
    "            w_new = np.append(w[:k], w[k+1:])\n",
    "            ck = 2 * np.sum(x[:,k] @ (y - (b + w_new@x_new.T)))\n",
    "            if(ck < -lam):\n",
    "                w[k] = (ck+lam)/(a[k])\n",
    "            elif (ck>lam):\n",
    "                w[k] = (ck-lam)/(a[k])\n",
    "            else:\n",
    "                w[k] = 0\n",
    "                \n",
    "                \n",
    "        #Check if converged\n",
    "        diff = np.max(np.abs(w - w_prev))\n",
    "        if( np.max(np.abs(w - w_prev)) < delta):\n",
    "            return w\n",
    "#         if(count > 1000):\n",
    "#             print(\"count stopped it\")\n",
    "#             return w\n",
    "        count += 1\n",
    "        \n",
    "        w_prev = np.copy(w)"
   ]
  },
  {
   "cell_type": "code",
   "execution_count": 34,
   "metadata": {},
   "outputs": [],
   "source": [
    "def find_lam_max(x, y, d):\n",
    "    lam_max_list = np.zeros(d)\n",
    "    for k in range(d):\n",
    "        summation = 0\n",
    "        for i in range(n):\n",
    "            summation += x[i,k] * (y[i] - np.mean(y))*2\n",
    "        lam_max_list[k] = summation\n",
    "    return np.max(lam_max_list)\n"
   ]
  },
  {
   "cell_type": "code",
   "execution_count": 35,
   "metadata": {},
   "outputs": [],
   "source": [
    "def error(truth, pred):\n",
    "    mse = np.mean((truth - pred)**2)\n",
    "    return mse"
   ]
  },
  {
   "cell_type": "code",
   "execution_count": 36,
   "metadata": {},
   "outputs": [
    {
     "data": {
      "text/plain": [
       "array([-0.02912824,  0.        ,  0.01736091,  0.00852797,  0.00655093])"
      ]
     },
     "execution_count": 36,
     "metadata": {},
     "output_type": "execute_result"
    }
   ],
   "source": [
    "w[idx]"
   ]
  },
  {
   "cell_type": "code",
   "execution_count": 39,
   "metadata": {},
   "outputs": [
    {
     "name": "stdout",
     "output_type": "stream",
     "text": [
      "541.4826026332282\n",
      "0\n",
      "num_nonzero_list =  [1]\n",
      "lam_list =  [541.4826026332282]\n",
      "weights =  [array([0., 0., 0., 0., 0.])]\n",
      "mse_train_list =  [0.10958369905956106]\n",
      "mse_test_list =  [0.11610551378446107]\n",
      "1\n",
      "num_nonzero_list =  [1, 2]\n",
      "lam_list =  [541.4826026332282, 270.7413013166141]\n",
      "weights =  [array([0., 0., 0., 0., 0.]), array([0., 0., 0., 0., 0.])]\n",
      "mse_train_list =  [0.10958369905956106, 0.08587472193906685]\n",
      "mse_test_list =  [0.11610551378446107, 0.09350920348390207]\n",
      "2\n",
      "num_nonzero_list =  [1, 2, 4]\n",
      "lam_list =  [541.4826026332282, 270.7413013166141, 135.37065065830706]\n",
      "weights =  [array([0., 0., 0., 0., 0.]), array([0., 0., 0., 0., 0.]), array([0., 0., 0., 0., 0.])]\n",
      "mse_train_list =  [0.10958369905956106, 0.08587472193906685, 0.07857305001065085]\n",
      "mse_test_list =  [0.11610551378446107, 0.09350920348390207, 0.0867734362737652]\n",
      "3\n",
      "num_nonzero_list =  [1, 2, 4, 7]\n",
      "lam_list =  [541.4826026332282, 270.7413013166141, 135.37065065830706, 67.68532532915353]\n",
      "weights =  [array([0., 0., 0., 0., 0.]), array([0., 0., 0., 0., 0.]), array([0., 0., 0., 0., 0.]), array([0., 0., 0., 0., 0.])]\n",
      "mse_train_list =  [0.10958369905956106, 0.08587472193906685, 0.07857305001065085, 0.07562036185506164]\n",
      "mse_test_list =  [0.11610551378446107, 0.09350920348390207, 0.0867734362737652, 0.08432944831639638]\n",
      "4\n",
      "num_nonzero_list =  [1, 2, 4, 7, 12]\n",
      "lam_list =  [541.4826026332282, 270.7413013166141, 135.37065065830706, 67.68532532915353, 33.842662664576764]\n",
      "weights =  [array([0., 0., 0., 0., 0.]), array([0., 0., 0., 0., 0.]), array([0., 0., 0., 0., 0.]), array([0., 0., 0., 0., 0.]), array([-0.00206087,  0.        ,  0.00923903,  0.        ,  0.        ])]\n",
      "mse_train_list =  [0.10958369905956106, 0.08587472193906685, 0.07857305001065085, 0.07562036185506164, 0.07440356806995985]\n",
      "mse_test_list =  [0.11610551378446107, 0.09350920348390207, 0.0867734362737652, 0.08432944831639638, 0.08325820769009881]\n",
      "5\n",
      "num_nonzero_list =  [1, 2, 4, 7, 12, 19]\n",
      "lam_list =  [541.4826026332282, 270.7413013166141, 135.37065065830706, 67.68532532915353, 33.842662664576764, 16.921331332288382]\n",
      "weights =  [array([0., 0., 0., 0., 0.]), array([0., 0., 0., 0., 0.]), array([0., 0., 0., 0., 0.]), array([0., 0., 0., 0., 0.]), array([-0.00206087,  0.        ,  0.00923903,  0.        ,  0.        ]), array([-0.00832658,  0.        ,  0.01256596,  0.        ,  0.        ])]\n",
      "mse_train_list =  [0.10958369905956106, 0.08587472193906685, 0.07857305001065085, 0.07562036185506164, 0.07440356806995985, 0.07377705273322874]\n",
      "mse_test_list =  [0.11610551378446107, 0.09350920348390207, 0.0867734362737652, 0.08432944831639638, 0.08325820769009881, 0.08273085067578023]\n",
      "6\n",
      "num_nonzero_list =  [1, 2, 4, 7, 12, 19, 27]\n",
      "lam_list =  [541.4826026332282, 270.7413013166141, 135.37065065830706, 67.68532532915353, 33.842662664576764, 16.921331332288382, 8.460665666144191]\n",
      "weights =  [array([0., 0., 0., 0., 0.]), array([0., 0., 0., 0., 0.]), array([0., 0., 0., 0., 0.]), array([0., 0., 0., 0., 0.]), array([-0.00206087,  0.        ,  0.00923903,  0.        ,  0.        ]), array([-0.00832658,  0.        ,  0.01256596,  0.        ,  0.        ]), array([-0.01525193,  0.        ,  0.01400085,  0.        ,  0.        ])]\n",
      "mse_train_list =  [0.10958369905956106, 0.08587472193906685, 0.07857305001065085, 0.07562036185506164, 0.07440356806995985, 0.07377705273322874, 0.07340499901372866]\n",
      "mse_test_list =  [0.11610551378446107, 0.09350920348390207, 0.0867734362737652, 0.08432944831639638, 0.08325820769009881, 0.08273085067578023, 0.0823915484041903]\n",
      "7\n",
      "num_nonzero_list =  [1, 2, 4, 7, 12, 19, 27, 46]\n",
      "lam_list =  [541.4826026332282, 270.7413013166141, 135.37065065830706, 67.68532532915353, 33.842662664576764, 16.921331332288382, 8.460665666144191, 4.2303328330720955]\n",
      "weights =  [array([0., 0., 0., 0., 0.]), array([0., 0., 0., 0., 0.]), array([0., 0., 0., 0., 0.]), array([0., 0., 0., 0., 0.]), array([-0.00206087,  0.        ,  0.00923903,  0.        ,  0.        ]), array([-0.00832658,  0.        ,  0.01256596,  0.        ,  0.        ]), array([-0.01525193,  0.        ,  0.01400085,  0.        ,  0.        ]), array([-0.01923826,  0.        ,  0.01606122,  0.00679475,  0.00184729])]\n",
      "mse_train_list =  [0.10958369905956106, 0.08587472193906685, 0.07857305001065085, 0.07562036185506164, 0.07440356806995985, 0.07377705273322874, 0.07340499901372866, 0.07304969962236373]\n",
      "mse_test_list =  [0.11610551378446107, 0.09350920348390207, 0.0867734362737652, 0.08432944831639638, 0.08325820769009881, 0.08273085067578023, 0.0823915484041903, 0.08206627706939366]\n",
      "8\n",
      "num_nonzero_list =  [1, 2, 4, 7, 12, 19, 27, 46, 61]\n",
      "lam_list =  [541.4826026332282, 270.7413013166141, 135.37065065830706, 67.68532532915353, 33.842662664576764, 16.921331332288382, 8.460665666144191, 4.2303328330720955, 2.1151664165360478]\n",
      "weights =  [array([0., 0., 0., 0., 0.]), array([0., 0., 0., 0., 0.]), array([0., 0., 0., 0., 0.]), array([0., 0., 0., 0., 0.]), array([-0.00206087,  0.        ,  0.00923903,  0.        ,  0.        ]), array([-0.00832658,  0.        ,  0.01256596,  0.        ,  0.        ]), array([-0.01525193,  0.        ,  0.01400085,  0.        ,  0.        ]), array([-0.01923826,  0.        ,  0.01606122,  0.00679475,  0.00184729]), array([-0.02912824,  0.        ,  0.01736091,  0.00852797,  0.00655093])]\n",
      "mse_train_list =  [0.10958369905956106, 0.08587472193906685, 0.07857305001065085, 0.07562036185506164, 0.07440356806995985, 0.07377705273322874, 0.07340499901372866, 0.07304969962236373, 0.07263403642479613]\n",
      "mse_test_list =  [0.11610551378446107, 0.09350920348390207, 0.0867734362737652, 0.08432944831639638, 0.08325820769009881, 0.08273085067578023, 0.0823915484041903, 0.08206627706939366, 0.08164034269485586]\n",
      "9\n",
      "num_nonzero_list =  [1, 2, 4, 7, 12, 19, 27, 46, 61, 73]\n",
      "lam_list =  [541.4826026332282, 270.7413013166141, 135.37065065830706, 67.68532532915353, 33.842662664576764, 16.921331332288382, 8.460665666144191, 4.2303328330720955, 2.1151664165360478, 1.0575832082680239]\n",
      "weights =  [array([0., 0., 0., 0., 0.]), array([0., 0., 0., 0., 0.]), array([0., 0., 0., 0., 0.]), array([0., 0., 0., 0., 0.]), array([-0.00206087,  0.        ,  0.00923903,  0.        ,  0.        ]), array([-0.00832658,  0.        ,  0.01256596,  0.        ,  0.        ]), array([-0.01525193,  0.        ,  0.01400085,  0.        ,  0.        ]), array([-0.01923826,  0.        ,  0.01606122,  0.00679475,  0.00184729]), array([-0.02912824,  0.        ,  0.01736091,  0.00852797,  0.00655093]), array([-0.03510484,  0.00233914,  0.01889358,  0.0115712 ,  0.00650344])]\n",
      "mse_train_list =  [0.10958369905956106, 0.08587472193906685, 0.07857305001065085, 0.07562036185506164, 0.07440356806995985, 0.07377705273322874, 0.07340499901372866, 0.07304969962236373, 0.07263403642479613, 0.07236140449562763]\n",
      "mse_test_list =  [0.11610551378446107, 0.09350920348390207, 0.0867734362737652, 0.08432944831639638, 0.08325820769009881, 0.08273085067578023, 0.0823915484041903, 0.08206627706939366, 0.08164034269485586, 0.08169011918954201]\n",
      "10\n",
      "num_nonzero_list =  [1, 2, 4, 7, 12, 19, 27, 46, 61, 73, 85]\n",
      "lam_list =  [541.4826026332282, 270.7413013166141, 135.37065065830706, 67.68532532915353, 33.842662664576764, 16.921331332288382, 8.460665666144191, 4.2303328330720955, 2.1151664165360478, 1.0575832082680239, 0.5287916041340119]\n",
      "weights =  [array([0., 0., 0., 0., 0.]), array([0., 0., 0., 0., 0.]), array([0., 0., 0., 0., 0.]), array([0., 0., 0., 0., 0.]), array([-0.00206087,  0.        ,  0.00923903,  0.        ,  0.        ]), array([-0.00832658,  0.        ,  0.01256596,  0.        ,  0.        ]), array([-0.01525193,  0.        ,  0.01400085,  0.        ,  0.        ]), array([-0.01923826,  0.        ,  0.01606122,  0.00679475,  0.00184729]), array([-0.02912824,  0.        ,  0.01736091,  0.00852797,  0.00655093]), array([-0.03510484,  0.00233914,  0.01889358,  0.0115712 ,  0.00650344]), array([-0.03572923,  0.00239118,  0.01942894,  0.01174622,  0.00617209])]\n",
      "mse_train_list =  [0.10958369905956106, 0.08587472193906685, 0.07857305001065085, 0.07562036185506164, 0.07440356806995985, 0.07377705273322874, 0.07340499901372866, 0.07304969962236373, 0.07263403642479613, 0.07236140449562763, 0.0723189939243027]\n",
      "mse_test_list =  [0.11610551378446107, 0.09350920348390207, 0.0867734362737652, 0.08432944831639638, 0.08325820769009881, 0.08273085067578023, 0.0823915484041903, 0.08206627706939366, 0.08164034269485586, 0.08169011918954201, 0.08184130789619451]\n",
      "11\n"
     ]
    },
    {
     "name": "stdout",
     "output_type": "stream",
     "text": [
      "num_nonzero_list =  [1, 2, 4, 7, 12, 19, 27, 46, 61, 73, 85, 90]\n",
      "lam_list =  [541.4826026332282, 270.7413013166141, 135.37065065830706, 67.68532532915353, 33.842662664576764, 16.921331332288382, 8.460665666144191, 4.2303328330720955, 2.1151664165360478, 1.0575832082680239, 0.5287916041340119, 0.26439580206700597]\n",
      "weights =  [array([0., 0., 0., 0., 0.]), array([0., 0., 0., 0., 0.]), array([0., 0., 0., 0., 0.]), array([0., 0., 0., 0., 0.]), array([-0.00206087,  0.        ,  0.00923903,  0.        ,  0.        ]), array([-0.00832658,  0.        ,  0.01256596,  0.        ,  0.        ]), array([-0.01525193,  0.        ,  0.01400085,  0.        ,  0.        ]), array([-0.01923826,  0.        ,  0.01606122,  0.00679475,  0.00184729]), array([-0.02912824,  0.        ,  0.01736091,  0.00852797,  0.00655093]), array([-0.03510484,  0.00233914,  0.01889358,  0.0115712 ,  0.00650344]), array([-0.03572923,  0.00239118,  0.01942894,  0.01174622,  0.00617209]), array([-0.03169748,  0.00077376,  0.01900447,  0.0150278 ,  0.00628956])]\n",
      "mse_train_list =  [0.10958369905956106, 0.08587472193906685, 0.07857305001065085, 0.07562036185506164, 0.07440356806995985, 0.07377705273322874, 0.07340499901372866, 0.07304969962236373, 0.07263403642479613, 0.07236140449562763, 0.0723189939243027, 0.07241322485139227]\n",
      "mse_test_list =  [0.11610551378446107, 0.09350920348390207, 0.0867734362737652, 0.08432944831639638, 0.08325820769009881, 0.08273085067578023, 0.0823915484041903, 0.08206627706939366, 0.08164034269485586, 0.08169011918954201, 0.08184130789619451, 0.0819974434702935]\n",
      "12\n",
      "num_nonzero_list =  [1, 2, 4, 7, 12, 19, 27, 46, 61, 73, 85, 90, 93]\n",
      "lam_list =  [541.4826026332282, 270.7413013166141, 135.37065065830706, 67.68532532915353, 33.842662664576764, 16.921331332288382, 8.460665666144191, 4.2303328330720955, 2.1151664165360478, 1.0575832082680239, 0.5287916041340119, 0.26439580206700597, 0.13219790103350298]\n",
      "weights =  [array([0., 0., 0., 0., 0.]), array([0., 0., 0., 0., 0.]), array([0., 0., 0., 0., 0.]), array([0., 0., 0., 0., 0.]), array([-0.00206087,  0.        ,  0.00923903,  0.        ,  0.        ]), array([-0.00832658,  0.        ,  0.01256596,  0.        ,  0.        ]), array([-0.01525193,  0.        ,  0.01400085,  0.        ,  0.        ]), array([-0.01923826,  0.        ,  0.01606122,  0.00679475,  0.00184729]), array([-0.02912824,  0.        ,  0.01736091,  0.00852797,  0.00655093]), array([-0.03510484,  0.00233914,  0.01889358,  0.0115712 ,  0.00650344]), array([-0.03572923,  0.00239118,  0.01942894,  0.01174622,  0.00617209]), array([-0.03169748,  0.00077376,  0.01900447,  0.0150278 ,  0.00628956]), array([-0.02997356,  0.        ,  0.0161813 ,  0.01582432,  0.0062204 ])]\n",
      "mse_train_list =  [0.10958369905956106, 0.08587472193906685, 0.07857305001065085, 0.07562036185506164, 0.07440356806995985, 0.07377705273322874, 0.07340499901372866, 0.07304969962236373, 0.07263403642479613, 0.07236140449562763, 0.0723189939243027, 0.07241322485139227, 0.07248576691735838]\n",
      "mse_test_list =  [0.11610551378446107, 0.09350920348390207, 0.0867734362737652, 0.08432944831639638, 0.08325820769009881, 0.08273085067578023, 0.0823915484041903, 0.08206627706939366, 0.08164034269485586, 0.08169011918954201, 0.08184130789619451, 0.0819974434702935, 0.08210020533582994]\n",
      "13\n",
      "num_nonzero_list =  [1, 2, 4, 7, 12, 19, 27, 46, 61, 73, 85, 90, 93, 93]\n",
      "lam_list =  [541.4826026332282, 270.7413013166141, 135.37065065830706, 67.68532532915353, 33.842662664576764, 16.921331332288382, 8.460665666144191, 4.2303328330720955, 2.1151664165360478, 1.0575832082680239, 0.5287916041340119, 0.26439580206700597, 0.13219790103350298, 0.06609895051675149]\n",
      "weights =  [array([0., 0., 0., 0., 0.]), array([0., 0., 0., 0., 0.]), array([0., 0., 0., 0., 0.]), array([0., 0., 0., 0., 0.]), array([-0.00206087,  0.        ,  0.00923903,  0.        ,  0.        ]), array([-0.00832658,  0.        ,  0.01256596,  0.        ,  0.        ]), array([-0.01525193,  0.        ,  0.01400085,  0.        ,  0.        ]), array([-0.01923826,  0.        ,  0.01606122,  0.00679475,  0.00184729]), array([-0.02912824,  0.        ,  0.01736091,  0.00852797,  0.00655093]), array([-0.03510484,  0.00233914,  0.01889358,  0.0115712 ,  0.00650344]), array([-0.03572923,  0.00239118,  0.01942894,  0.01174622,  0.00617209]), array([-0.03169748,  0.00077376,  0.01900447,  0.0150278 ,  0.00628956]), array([-0.02997356,  0.        ,  0.0161813 ,  0.01582432,  0.0062204 ]), array([-0.02935811,  0.        ,  0.01449296,  0.01567021,  0.00636706])]\n",
      "mse_train_list =  [0.10958369905956106, 0.08587472193906685, 0.07857305001065085, 0.07562036185506164, 0.07440356806995985, 0.07377705273322874, 0.07340499901372866, 0.07304969962236373, 0.07263403642479613, 0.07236140449562763, 0.0723189939243027, 0.07241322485139227, 0.07248576691735838, 0.0725342092311795]\n",
      "mse_test_list =  [0.11610551378446107, 0.09350920348390207, 0.0867734362737652, 0.08432944831639638, 0.08325820769009881, 0.08273085067578023, 0.0823915484041903, 0.08206627706939366, 0.08164034269485586, 0.08169011918954201, 0.08184130789619451, 0.0819974434702935, 0.08210020533582994, 0.08219312130508022]\n",
      "14\n",
      "num_nonzero_list =  [1, 2, 4, 7, 12, 19, 27, 46, 61, 73, 85, 90, 93, 93, 94]\n",
      "lam_list =  [541.4826026332282, 270.7413013166141, 135.37065065830706, 67.68532532915353, 33.842662664576764, 16.921331332288382, 8.460665666144191, 4.2303328330720955, 2.1151664165360478, 1.0575832082680239, 0.5287916041340119, 0.26439580206700597, 0.13219790103350298, 0.06609895051675149, 0.033049475258375746]\n",
      "weights =  [array([0., 0., 0., 0., 0.]), array([0., 0., 0., 0., 0.]), array([0., 0., 0., 0., 0.]), array([0., 0., 0., 0., 0.]), array([-0.00206087,  0.        ,  0.00923903,  0.        ,  0.        ]), array([-0.00832658,  0.        ,  0.01256596,  0.        ,  0.        ]), array([-0.01525193,  0.        ,  0.01400085,  0.        ,  0.        ]), array([-0.01923826,  0.        ,  0.01606122,  0.00679475,  0.00184729]), array([-0.02912824,  0.        ,  0.01736091,  0.00852797,  0.00655093]), array([-0.03510484,  0.00233914,  0.01889358,  0.0115712 ,  0.00650344]), array([-0.03572923,  0.00239118,  0.01942894,  0.01174622,  0.00617209]), array([-0.03169748,  0.00077376,  0.01900447,  0.0150278 ,  0.00628956]), array([-0.02997356,  0.        ,  0.0161813 ,  0.01582432,  0.0062204 ]), array([-0.02935811,  0.        ,  0.01449296,  0.01567021,  0.00636706]), array([-0.0291183 , -0.0011017 ,  0.01367917,  0.01630026,  0.00662664])]\n",
      "mse_train_list =  [0.10958369905956106, 0.08587472193906685, 0.07857305001065085, 0.07562036185506164, 0.07440356806995985, 0.07377705273322874, 0.07340499901372866, 0.07304969962236373, 0.07263403642479613, 0.07236140449562763, 0.0723189939243027, 0.07241322485139227, 0.07248576691735838, 0.0725342092311795, 0.07256216833250838]\n",
      "mse_test_list =  [0.11610551378446107, 0.09350920348390207, 0.0867734362737652, 0.08432944831639638, 0.08325820769009881, 0.08273085067578023, 0.0823915484041903, 0.08206627706939366, 0.08164034269485586, 0.08169011918954201, 0.08184130789619451, 0.0819974434702935, 0.08210020533582994, 0.08219312130508022, 0.08225233306698103]\n",
      "15\n",
      "num_nonzero_list =  [1, 2, 4, 7, 12, 19, 27, 46, 61, 73, 85, 90, 93, 93, 94, 95]\n",
      "lam_list =  [541.4826026332282, 270.7413013166141, 135.37065065830706, 67.68532532915353, 33.842662664576764, 16.921331332288382, 8.460665666144191, 4.2303328330720955, 2.1151664165360478, 1.0575832082680239, 0.5287916041340119, 0.26439580206700597, 0.13219790103350298, 0.06609895051675149, 0.033049475258375746, 0.016524737629187873]\n",
      "weights =  [array([0., 0., 0., 0., 0.]), array([0., 0., 0., 0., 0.]), array([0., 0., 0., 0., 0.]), array([0., 0., 0., 0., 0.]), array([-0.00206087,  0.        ,  0.00923903,  0.        ,  0.        ]), array([-0.00832658,  0.        ,  0.01256596,  0.        ,  0.        ]), array([-0.01525193,  0.        ,  0.01400085,  0.        ,  0.        ]), array([-0.01923826,  0.        ,  0.01606122,  0.00679475,  0.00184729]), array([-0.02912824,  0.        ,  0.01736091,  0.00852797,  0.00655093]), array([-0.03510484,  0.00233914,  0.01889358,  0.0115712 ,  0.00650344]), array([-0.03572923,  0.00239118,  0.01942894,  0.01174622,  0.00617209]), array([-0.03169748,  0.00077376,  0.01900447,  0.0150278 ,  0.00628956]), array([-0.02997356,  0.        ,  0.0161813 ,  0.01582432,  0.0062204 ]), array([-0.02935811,  0.        ,  0.01449296,  0.01567021,  0.00636706]), array([-0.0291183 , -0.0011017 ,  0.01367917,  0.01630026,  0.00662664]), array([-0.02902826, -0.00166242,  0.01327149,  0.01659259,  0.00676525])]\n",
      "mse_train_list =  [0.10958369905956106, 0.08587472193906685, 0.07857305001065085, 0.07562036185506164, 0.07440356806995985, 0.07377705273322874, 0.07340499901372866, 0.07304969962236373, 0.07263403642479613, 0.07236140449562763, 0.0723189939243027, 0.07241322485139227, 0.07248576691735838, 0.0725342092311795, 0.07256216833250838, 0.0725777013200933]\n",
      "mse_test_list =  [0.11610551378446107, 0.09350920348390207, 0.0867734362737652, 0.08432944831639638, 0.08325820769009881, 0.08273085067578023, 0.0823915484041903, 0.08206627706939366, 0.08164034269485586, 0.08169011918954201, 0.08184130789619451, 0.0819974434702935, 0.08210020533582994, 0.08219312130508022, 0.08225233306698103, 0.0822821324460147]\n"
     ]
    }
   ],
   "source": [
    "\n",
    "scale_fac = 2\n",
    "num_nonzero_list = []\n",
    "lam_list = []\n",
    "mse_train_list = []\n",
    "mse_test_list = []\n",
    "weights = []\n",
    "\n",
    "\n",
    "lam = find_lam_max(x, y, d)\n",
    "print(lam)\n",
    "\n",
    "i = 0\n",
    "num_nonzero = 0\n",
    "while lam > 0.01:\n",
    "    print(i)\n",
    "    i += 1\n",
    "    w = CDA_better(x, y, lam, delta = 1e-3)\n",
    "    \n",
    "    pred_train = w@x.T\n",
    "    pred_test = w@x_test.T\n",
    "    mse_train_list.append(error(y, pred_train))\n",
    "    mse_test_list.append(error(y_test, pred_test))\n",
    "    \n",
    "    weights.append(w[idx])\n",
    "    \n",
    "    num_nonzero= np.count_nonzero(w)\n",
    "    num_nonzero_list.append(num_nonzero)\n",
    "    lam_list.append(lam)\n",
    "    lam = lam/scale_fac\n",
    "    \n",
    "    print(\"num_nonzero_list = \", num_nonzero_list)\n",
    "    print(\"lam_list = \", lam_list)\n",
    "    print(\"weights = \", weights)\n",
    "    print(\"mse_train_list = \", mse_train_list)\n",
    "    print(\"mse_test_list = \", mse_test_list)\n",
    "\n"
   ]
  },
  {
   "cell_type": "code",
   "execution_count": 58,
   "metadata": {},
   "outputs": [
    {
     "name": "stdout",
     "output_type": "stream",
     "text": [
      "[541.4826026332282, 270.7413013166141, 135.37065065830706, 67.68532532915353, 33.842662664576764, 16.921331332288382, 8.460665666144191, 4.2303328330720955, 2.1151664165360478, 1.0575832082680239, 0.5287916041340119, 0.26439580206700597, 0.13219790103350298, 0.06609895051675149, 0.033049475258375746, 0.016524737629187873]\n",
      "[1, 2, 4, 7, 12, 19, 27, 46, 61, 73, 85, 90, 93, 93, 94, 95]\n"
     ]
    },
    {
     "data": {
      "text/plain": [
       "Text(0.5, 1.0, 'Number of nonzero terms as regularization changes')"
      ]
     },
     "execution_count": 58,
     "metadata": {},
     "output_type": "execute_result"
    },
    {
     "data": {
      "image/png": "[encoded data removed]",
      "text/plain": [
       "<Figure size 432x288 with 1 Axes>"
      ]
     },
     "metadata": {
      "needs_background": "light"
     },
     "output_type": "display_data"
    }
   ],
   "source": [
    "\n",
    "print(lam_list)\n",
    "print(num_nonzero_list)\n",
    "plt.plot(lam_list, num_nonzero_list)\n",
    "plt.xlabel(r'$\\lambda$')\n",
    "plt.ylabel('Number of nonzero terms')\n",
    "plt.xscale('log')\n",
    "plt.title('Number of nonzero terms as regularization changes')"
   ]
  },
  {
   "cell_type": "code",
   "execution_count": 57,
   "metadata": {},
   "outputs": [
    {
     "name": "stdout",
     "output_type": "stream",
     "text": [
      "(16, 5)\n"
     ]
    },
    {
     "data": {
      "text/plain": [
       "Text(0.5, 1.0, 'Regularization paths for select variables')"
      ]
     },
     "execution_count": 57,
     "metadata": {},
     "output_type": "execute_result"
    },
    {
     "data": {
      "image/png": "[encoded data removed]",
      "text/plain": [
       "<Figure size 432x288 with 1 Axes>"
      ]
     },
     "metadata": {
      "needs_background": "light"
     },
     "output_type": "display_data"
    }
   ],
   "source": [
    "weights_np = np.array(weights)\n",
    "print(weights_np.shape)\n",
    "plt.plot(lam_list, weights_np[:,0], label = \"agePCt12t29\")\n",
    "plt.plot(lam_list, weights_np[:,1], label = \"pctWSocSec\")\n",
    "plt.plot(lam_list, weights_np[:,2], label = \"pctUrban\")\n",
    "plt.plot(lam_list, weights_np[:,3], label = \"agePCT65Up\")\n",
    "plt.plot(lam_list, weights_np[:,4], label = \"householsize\")\n",
    "plt.legend()\n",
    "plt.xlabel(r'$\\lambda$')\n",
    "plt.ylabel('Weight term')\n",
    "plt.xscale('log')\n",
    "plt.title('Regularization paths for select variables')"
   ]
  },
  {
   "cell_type": "code",
   "execution_count": 59,
   "metadata": {},
   "outputs": [
    {
     "data": {
      "text/plain": [
       "Text(0.5, 1.0, 'Mean Squared Error as regularization changes')"
      ]
     },
     "execution_count": 59,
     "metadata": {},
     "output_type": "execute_result"
    },
    {
     "data": {
      "image/png": "[encoded data removed]",
      "text/plain": [
       "<Figure size 432x288 with 1 Axes>"
      ]
     },
     "metadata": {
      "needs_background": "light"
     },
     "output_type": "display_data"
    }
   ],
   "source": [
    "plt.plot(lam_list, mse_train_list, label = \"Training\")\n",
    "plt.plot(lam_list, mse_test_list, label = \"Testing\")\n",
    "plt.xlabel(r'$\\lambda$')\n",
    "plt.legend()\n",
    "plt.ylabel('Mean Squared Error')\n",
    "plt.xscale('log')\n",
    "plt.title('Mean Squared Error as regularization changes')\n",
    "# plt.yscale('log')"
   ]
  },
  {
   "cell_type": "code",
   "execution_count": 68,
   "metadata": {},
   "outputs": [
    {
     "name": "stdout",
     "output_type": "stream",
     "text": [
      "[ 0.          0.          0.         -0.00348378  0.          0.\n",
      "  0.          0.01048151  0.          0.          0.          0.\n",
      "  0.          0.          0.          0.          0.          0.\n",
      "  0.          0.          0.          0.          0.          0.\n",
      "  0.          0.          0.          0.          0.          0.\n",
      "  0.          0.          0.          0.01144922  0.          0.\n",
      "  0.          0.          0.         -0.06949211  0.          0.\n",
      "  0.         -0.00589508  0.          0.0692029   0.          0.\n",
      "  0.          0.          0.          0.          0.          0.\n",
      "  0.          0.          0.          0.          0.          0.\n",
      "  0.          0.          0.          0.03027494  0.          0.\n",
      "  0.02048176 -0.0072364   0.          0.00087862  0.          0.\n",
      "  0.          0.          0.          0.          0.          0.\n",
      "  0.          0.          0.          0.          0.          0.\n",
      "  0.          0.0156827   0.          0.          0.          0.\n",
      "  0.          0.          0.          0.          0.00033777]\n",
      "Max coefficient\n",
      "45\n",
      "PctIlleg\n",
      "Min coefficient\n",
      "39\n",
      "PctKids2Par\n"
     ]
    }
   ],
   "source": [
    "#running for lambda = 30 for question d\n",
    "# w = CDA_better(x, y, 30, delta = 1e-3)\n",
    "print(w)\n",
    "print(\"Max coefficient\")\n",
    "print(np.argmax(w))\n",
    "print(df_train.drop(\"ViolentCrimesPerPop\", axis = 1).columns[np.argmax(w)])\n",
    "print(\"Min coefficient\")\n",
    "print(np.argmin(w))\n",
    "print(df_train.drop(\"ViolentCrimesPerPop\", axis = 1).columns[np.argmin(w)])"
   ]
  },
  {
   "cell_type": "code",
   "execution_count": null,
   "metadata": {},
   "outputs": [],
   "source": []
  },
  {
   "cell_type": "code",
   "execution_count": null,
   "metadata": {},
   "outputs": [],
   "source": []
  }
 ],
 "metadata": {
  "kernelspec": {
   "display_name": "Python 3",
   "language": "python",
   "name": "python3"
  },
  "language_info": {
   "codemirror_mode": {
    "name": "ipython",
    "version": 3
   },
   "file_extension": ".py",
   "mimetype": "text/x-python",
   "name": "python",
   "nbconvert_exporter": "python",
   "pygments_lexer": "ipython3",
   "version": "3.7.4"
  }
 },
 "nbformat": 4,
 "nbformat_minor": 2
}
