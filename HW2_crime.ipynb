{
 "cells": [
  {
   "cell_type": "code",
   "execution_count": null,
   "metadata": {},
   "outputs": [],
   "source": [
    "import numpy as np\n",
    "import matplotlib.pyplot as plt\n",
    "import pandas as pd"
   ]
  },
  {
   "cell_type": "code",
   "execution_count": null,
   "metadata": {},
   "outputs": [],
   "source": [
    "#Get the data\n",
    "df_train = pd.read_table(\"crime-train.txt\")\n",
    "df_test = pd.read_table(\"crime-test.txt\")\n",
    "\n",
    "y = df_train[\"ViolentCrimesPerPop\"].values\n",
    "y_test = df_test[\"ViolentCrimesPerPop\"].values\n",
    "x = df_train.drop(\"ViolentCrimesPerPop\", axis = 1).values\n",
    "x_test = df_test.drop(\"ViolentCrimesPerPop\", axis = 1).values\n",
    "(n,d) = x_train.shape\n",
    "print(x_train.shape)\n",
    "print(y_train.shape)\n",
    "print(y_test.shape)\n",
    "idx1 = df_train.drop(\"ViolentCrimesPerPop\", axis = 1).columns.get_loc(\"agePct12t29\")\n",
    "idx2 = df_train.drop(\"ViolentCrimesPerPop\", axis = 1).columns.get_loc(\"pctWSocSec\")\n",
    "idx3 = df_train.drop(\"ViolentCrimesPerPop\", axis = 1).columns.get_loc(\"pctUrban\")\n",
    "idx4 = df_train.drop(\"ViolentCrimesPerPop\", axis = 1).columns.get_loc(\"agePct65up\")\n",
    "idx5 = df_train.drop(\"ViolentCrimesPerPop\", axis = 1).columns.get_loc(\"householdsize\")\n",
    "idx = [idx1, idx2, idx3, idx4, idx5]\n",
    "print(idx)"
   ]
  },
  {
   "cell_type": "code",
   "execution_count": null,
   "metadata": {},
   "outputs": [],
   "source": [
    "def CDA_better(x, y, lam, delta = 10e-8):\n",
    "    going = True\n",
    "    (n,d) = x.shape\n",
    "    w = np.ones((d,))\n",
    "    w_prev = np.copy(w)\n",
    "    count = 0\n",
    "    while going:\n",
    "        b = np.mean(y - w@x.T)\n",
    "        a = 2*np.sum(np.abs(x)**2,axis=0)\n",
    "        for k in range(d):\n",
    "            x_new = np.append(x[:,:k], x[:,k+1:], axis = 1)\n",
    "            w_new = np.append(w[:k], w[k+1:])\n",
    "            ck = 2 * np.sum(x[:,k] @ (y - (b + w_new@x_new.T)))\n",
    "            if(ck < -lam):\n",
    "                w[k] = (ck+lam)/(a[k])\n",
    "            elif (ck>lam):\n",
    "                w[k] = (ck-lam)/(a[k])\n",
    "            else:\n",
    "                w[k] = 0\n",
    "                \n",
    "                \n",
    "        #Check if converged\n",
    "        diff = np.max(np.abs(w - w_prev))\n",
    "        if( np.max(np.abs(w - w_prev)) < delta):\n",
    "            return w\n",
    "        count += 1\n",
    "        \n",
    "        w_prev = np.copy(w)"
   ]
  },
  {
   "cell_type": "code",
   "execution_count": null,
   "metadata": {},
   "outputs": [],
   "source": [
    "def find_lam_max(x, y, d):\n",
    "    lam_max_list = np.zeros(d)\n",
    "    for k in range(d):\n",
    "        summation = 0\n",
    "        for i in range(n):\n",
    "            summation += x[i,k] * (y[i] - np.mean(y))*2\n",
    "        lam_max_list[k] = summation\n",
    "    return np.max(lam_max_list)\n"
   ]
  },
  {
   "cell_type": "code",
   "execution_count": null,
   "metadata": {},
   "outputs": [],
   "source": [
    "def error(truth, pred):\n",
    "    mse = np.mean((truth - pred)**2)\n",
    "    return mse"
   ]
  },
  {
   "cell_type": "code",
   "execution_count": null,
   "metadata": {},
   "outputs": [],
   "source": [
    "scale_fac = 2\n",
    "num_nonzero_list = []\n",
    "lam_list = []\n",
    "mse_train_list = []\n",
    "mse_test_list = []\n",
    "weights = []\n",
    "\n",
    "\n",
    "lam = find_lam_max(x, y, d)\n",
    "print(lam)\n",
    "\n",
    "i = 0\n",
    "num_nonzero = 0\n",
    "while lam > 0.01:\n",
    "    print(i)\n",
    "    i += 1\n",
    "    w = CDA_better(x, y, lam, delta = 1e-3)\n",
    "    \n",
    "    pred_train = w@x.T\n",
    "    pred_test = w@x_test.T\n",
    "    mse_train_list.append(error(y, pred_train))\n",
    "    mse_test_list.append(error(y_test, pred_test))\n",
    "    \n",
    "    weights.append(w[idx])\n",
    "    \n",
    "    num_nonzero= np.count_nonzero(w)\n",
    "    num_nonzero_list.append(num_nonzero)\n",
    "    lam_list.append(lam)\n",
    "    lam = lam/scale_fac\n",
    "    \n",
    "    print(\"num_nonzero_list = \", num_nonzero_list)\n",
    "    print(\"lam_list = \", lam_list)\n",
    "    print(\"weights = \", weights)\n",
    "    print(\"mse_train_list = \", mse_train_list)\n",
    "    print(\"mse_test_list = \", mse_test_list)\n",
    "\n"
   ]
  },
  {
   "cell_type": "code",
   "execution_count": null,
   "metadata": {},
   "outputs": [],
   "source": [
    "print(lam_list)\n",
    "print(num_nonzero_list)\n",
    "plt.plot(lam_list, num_nonzero_list)\n",
    "plt.xlabel(r'$\\lambda$')\n",
    "plt.ylabel('Number of nonzero terms')\n",
    "plt.xscale('log')\n",
    "plt.title('Number of nonzero terms as regularization changes')"
   ]
  },
  {
   "cell_type": "code",
   "execution_count": null,
   "metadata": {},
   "outputs": [],
   "source": [
    "weights_np = np.array(weights)\n",
    "print(weights_np.shape)\n",
    "plt.plot(lam_list, weights_np[:,0], label = \"agePCt12t29\")\n",
    "plt.plot(lam_list, weights_np[:,1], label = \"pctWSocSec\")\n",
    "plt.plot(lam_list, weights_np[:,2], label = \"pctUrban\")\n",
    "plt.plot(lam_list, weights_np[:,3], label = \"agePCT65Up\")\n",
    "plt.plot(lam_list, weights_np[:,4], label = \"householsize\")\n",
    "plt.legend()\n",
    "plt.xlabel(r'$\\lambda$')\n",
    "plt.ylabel('Weight term')\n",
    "plt.xscale('log')\n",
    "plt.title('Regularization paths for select variables')"
   ]
  },
  {
   "cell_type": "code",
   "execution_count": null,
   "metadata": {},
   "outputs": [],
   "source": [
    "plt.plot(lam_list, mse_train_list, label = \"Training\")\n",
    "plt.plot(lam_list, mse_test_list, label = \"Testing\")\n",
    "plt.xlabel(r'$\\lambda$')\n",
    "plt.legend()\n",
    "plt.ylabel('Mean Squared Error')\n",
    "plt.xscale('log')\n",
    "plt.title('Mean Squared Error as regularization changes')\n",
    "# plt.yscale('log')"
   ]
  },
  {
   "cell_type": "code",
   "execution_count": null,
   "metadata": {},
   "outputs": [],
   "source": [
    "#running for lambda = 30 for question d\n",
    "w = CDA_better(x, y, 30, delta = 1e-3)\n",
    "print(w)\n",
    "print(\"Max coefficient\")\n",
    "print(np.argmax(w))\n",
    "print(df_train.drop(\"ViolentCrimesPerPop\", axis = 1).columns[np.argmax(w)])\n",
    "print(\"Min coefficient\")\n",
    "print(np.argmin(w))\n",
    "print(df_train.drop(\"ViolentCrimesPerPop\", axis = 1).columns[np.argmin(w)])"
   ]
  }
 ],
 "metadata": {
  "kernelspec": {
   "display_name": "Python 3",
   "language": "python",
   "name": "python3"
  },
  "language_info": {
   "codemirror_mode": {
    "name": "ipython",
    "version": 3
   },
   "file_extension": ".py",
   "mimetype": "text/x-python",
   "name": "python",
   "nbconvert_exporter": "python",
   "pygments_lexer": "ipython3",
   "version": "3.7.4"
  }
 },
 "nbformat": 4,
 "nbformat_minor": 2
}
