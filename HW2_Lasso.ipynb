{
 "cells": [
  {
   "cell_type": "code",
   "execution_count": 1,
   "metadata": {},
   "outputs": [],
   "source": [
    "import numpy as np\n",
    "import matplotlib.pyplot as plt\n"
   ]
  },
  {
   "cell_type": "code",
   "execution_count": 58,
   "metadata": {},
   "outputs": [
    {
     "name": "stdout",
     "output_type": "stream",
     "text": [
      "x shape (500, 1000)\n",
      "y shape (500,)\n"
     ]
    }
   ],
   "source": [
    "n = 500\n",
    "d = 1000\n",
    "k = 100\n",
    "sigma = 1\n",
    "\n",
    "#make w array\n",
    "w = np.zeros(d)\n",
    "for j in range(10):\n",
    "    w[j] = j/10\n",
    "    \n",
    "\n",
    "x = np.random.normal(size=(n, d))\n",
    "y = w @ x.T + np.random.normal(0, sigma, size=(n))\n",
    "\n",
    "print(\"x shape\", x.shape)\n",
    "print(\"y shape\", y.shape)"
   ]
  },
  {
   "cell_type": "code",
   "execution_count": 56,
   "metadata": {},
   "outputs": [],
   "source": [
    "def CDA(x, y, lam, delta = 10e-8):\n",
    "    going = True\n",
    "    (n,d) = x.shape\n",
    "    w = np.ones((1,d))\n",
    "    w_prev = np.copy(w)\n",
    "    count = 0\n",
    "    while going:\n",
    "        b = np.mean(y - w@x.T)\n",
    "        for k in range(d):\n",
    "            ak = 2 * np.linalg.norm(x[:,k])**2\n",
    "            ck = 0\n",
    "            for i in range(n):\n",
    "                summation = 0\n",
    "                for j in range(d):\n",
    "                    if j !=k:\n",
    "                        summation += w[0,j] * x[i,j]\n",
    "#                 print(\"summation = \", summation)\n",
    "                ck += 2* x[i, k]*(y[i] - (b + summation)) \n",
    "\n",
    "            if(ck < -lam):\n",
    "                w[0, k] = (ck+lam)/ak\n",
    "            elif (ck>lam):\n",
    "                w[0, k] = (ck-lam)/ak\n",
    "            else:\n",
    "                w[0, k] = 0\n",
    "                \n",
    "                \n",
    "        #Check if converged\n",
    "        diff = np.max(np.abs(w - w_prev))\n",
    "        print(\"diff = \", np.max(np.abs(w - w_prev)))\n",
    "        if( np.max(np.abs(w - w_prev)) < delta):\n",
    "#         if(np.max(np.abs(w - w_prev)) < delta):\n",
    "#             print(\"max = \", np.max(np.abs(w - w_prev)))\n",
    "            return w\n",
    "        if(count > 100):\n",
    "            print(\"count stopped it\")\n",
    "            return w\n",
    "        count += 1\n",
    "        \n",
    "        w_prev = np.copy(w)\n",
    "        \n",
    "def CDA_better(x, y, lam, delta = 10e-8):\n",
    "    going = True\n",
    "    (n,d) = x.shape\n",
    "    w = np.ones((d,))\n",
    "    w_prev = np.copy(w)\n",
    "    count = 0\n",
    "    while going:\n",
    "        b = np.mean(y - w@x.T)\n",
    "        a = 2*np.sum(np.abs(x)**2,axis=0)\n",
    "        for k in range(d):\n",
    "#             ak = 2 * np.linalg.norm(x[:,k])**2\n",
    "            x_new = np.append(x[:,:k], x[:,k+1:], axis = 1)\n",
    "            w_new = np.append(w[:k], w[k+1:])\n",
    "#             print(\"summation ?= \", np.sum(w_new@x_new.T))\n",
    "            ck = 2 * np.sum(x[:,k] @ (y - (b + w_new@x_new.T)))\n",
    "            if(ck < -lam):\n",
    "                w[k] = (ck+lam)/(a[k])\n",
    "            elif (ck>lam):\n",
    "                w[k] = (ck-lam)/(a[k])\n",
    "            else:\n",
    "                w[k] = 0\n",
    "                \n",
    "#         return w\n",
    "                \n",
    "        #Check if converged\n",
    "        diff = np.max(np.abs(w - w_prev))\n",
    "#         print(\"diff = \", np.max(np.abs(w - w_prev)))\n",
    "        if( np.max(np.abs(w - w_prev)) < delta):\n",
    "#             print(\"max = \", np.max(np.abs(w - w_prev)))\n",
    "            print(\"count = \", count)\n",
    "            return w\n",
    "#         if(count > 1000):\n",
    "#             print(\"count stopped it\")\n",
    "#             return w\n",
    "        count += 1\n",
    "        \n",
    "        w_prev = np.copy(w)"
   ]
  },
  {
   "cell_type": "code",
   "execution_count": 4,
   "metadata": {},
   "outputs": [],
   "source": [
    "def find_lam_max(x, y, d):\n",
    "    lam_max_list = np.zeros(d)\n",
    "    for k in range(d):\n",
    "        summation = 0\n",
    "        for i in range(n):\n",
    "            summation += x[i,k] * (y[i] - np.mean(y))*2\n",
    "        lam_max_list[k] = summation\n",
    "    return np.max(lam_max_list)\n"
   ]
  },
  {
   "cell_type": "code",
   "execution_count": null,
   "metadata": {},
   "outputs": [
    {
     "name": "stdout",
     "output_type": "stream",
     "text": [
      "0\n",
      "count =  4\n",
      "num terms =  1\n",
      "1\n",
      "count =  5\n",
      "num terms =  4\n",
      "2\n",
      "count =  6\n",
      "num terms =  6\n",
      "3\n",
      "count =  8\n",
      "num terms =  7\n",
      "4\n",
      "count =  10\n",
      "num terms =  8\n",
      "5\n",
      "count =  13\n",
      "num terms =  26\n",
      "6\n",
      "count =  19\n",
      "num terms =  78\n",
      "7\n",
      "count =  27\n",
      "num terms =  153\n",
      "8\n",
      "count =  41\n",
      "num terms =  232\n",
      "9\n",
      "count =  61\n",
      "num terms =  304\n",
      "10\n",
      "count =  88\n",
      "num terms =  358\n",
      "11\n"
     ]
    }
   ],
   "source": [
    "# num_lams = 100\n",
    "# scale_fac = 1.5\n",
    "# num_nonzero_list = []\n",
    "# lam_list = []\n",
    "\n",
    "\n",
    "# lam = find_lam_max(x, y, d)\n",
    "\n",
    "# print(\"better = \", CDA_better(np.copy(x), np.copy(y), 2.67173740e-02))\n",
    "# print(\"not better = \", CDA(np.copy(x), np.copy(y), lam/10))\n",
    "# for i in range(num_lams):\n",
    "i = 0\n",
    "num_nonzero = 0\n",
    "while num_nonzero <= (d-5):\n",
    "    print(i)\n",
    "    i += 1\n",
    "    w = CDA_better(x, y, lam, delta = 1e-3)\n",
    "#     w = CDA(x, y, lam)\n",
    "    num_nonzero= np.count_nonzero(w)\n",
    "    num_nonzero_list.append(num_nonzero)\n",
    "    print(\"num terms = \",num_nonzero)\n",
    "    lam_list.append(num_nonzero)\n",
    "    lam = lam/scale_fac\n",
    "\n",
    "# print(CDA(x, y, lam_max))"
   ]
  },
  {
   "cell_type": "code",
   "execution_count": 40,
   "metadata": {},
   "outputs": [
    {
     "name": "stdout",
     "output_type": "stream",
     "text": [
      "[0.00000000e+00 8.88421276e+01 5.92280850e+01 3.94853900e+01\n",
      " 2.63235934e+01 1.75490622e+01 1.16993748e+01 7.79958322e+00\n",
      " 5.19972214e+00 3.46648143e+00 2.31098762e+00 1.54065841e+00\n",
      " 1.02710561e+00 6.84737072e-01 4.56491382e-01 3.04327588e-01\n",
      " 2.02885058e-01 1.35256706e-01 9.01711371e-02 6.01140914e-02\n",
      " 4.00760609e-02 2.67173740e-02 0.00000000e+00 0.00000000e+00\n",
      " 0.00000000e+00 0.00000000e+00 0.00000000e+00 0.00000000e+00\n",
      " 0.00000000e+00 0.00000000e+00 0.00000000e+00 0.00000000e+00\n",
      " 0.00000000e+00 0.00000000e+00 0.00000000e+00 0.00000000e+00\n",
      " 0.00000000e+00 0.00000000e+00 0.00000000e+00 0.00000000e+00\n",
      " 0.00000000e+00 0.00000000e+00 0.00000000e+00 0.00000000e+00\n",
      " 0.00000000e+00 0.00000000e+00 0.00000000e+00 0.00000000e+00\n",
      " 0.00000000e+00 0.00000000e+00 0.00000000e+00 0.00000000e+00\n",
      " 0.00000000e+00 0.00000000e+00 0.00000000e+00 0.00000000e+00\n",
      " 0.00000000e+00 0.00000000e+00 0.00000000e+00 0.00000000e+00\n",
      " 0.00000000e+00 0.00000000e+00 0.00000000e+00 0.00000000e+00\n",
      " 0.00000000e+00 0.00000000e+00 0.00000000e+00 0.00000000e+00\n",
      " 0.00000000e+00 0.00000000e+00 0.00000000e+00 0.00000000e+00\n",
      " 0.00000000e+00 0.00000000e+00 0.00000000e+00 0.00000000e+00\n",
      " 0.00000000e+00 0.00000000e+00 0.00000000e+00 0.00000000e+00\n",
      " 0.00000000e+00 0.00000000e+00 0.00000000e+00 0.00000000e+00\n",
      " 0.00000000e+00 0.00000000e+00 0.00000000e+00 0.00000000e+00\n",
      " 0.00000000e+00 0.00000000e+00 0.00000000e+00 0.00000000e+00\n",
      " 0.00000000e+00 0.00000000e+00 0.00000000e+00 0.00000000e+00\n",
      " 0.00000000e+00 0.00000000e+00 0.00000000e+00 0.00000000e+00]\n",
      "[ 0.  1.  4.  6. 14. 19. 25. 28. 33. 38. 42. 46. 46. 47. 45. 50. 51. 53.\n",
      " 54. 55. 54. 56.  0.  0.  0.  0.  0.  0.  0.  0.  0.  0.  0.  0.  0.  0.\n",
      "  0.  0.  0.  0.  0.  0.  0.  0.  0.  0.  0.  0.  0.  0.  0.  0.  0.  0.\n",
      "  0.  0.  0.  0.  0.  0.  0.  0.  0.  0.  0.  0.  0.  0.  0.  0.  0.  0.\n",
      "  0.  0.  0.  0.  0.  0.  0.  0.  0.  0.  0.  0.  0.  0.  0.  0.  0.  0.\n",
      "  0.  0.  0.  0.  0.  0.  0.  0.  0.  0.]\n"
     ]
    },
    {
     "data": {
      "image/png": "[encoded data removed]",
      "text/plain": [
       "<Figure size 432x288 with 1 Axes>"
      ]
     },
     "metadata": {
      "needs_background": "light"
     },
     "output_type": "display_data"
    }
   ],
   "source": [
    "print(lam_list)\n",
    "print(num_nonzero_list)\n",
    "plt.plot(lam_list, num_nonzero_list)\n",
    "plt.xlabel(r'$\\lambda$')\n",
    "plt.ylabel('Number of nonzero terms')\n",
    "plt.xscale('log')"
   ]
  },
  {
   "cell_type": "code",
   "execution_count": null,
   "metadata": {},
   "outputs": [],
   "source": [
    "# print(w.shape)\n",
    "# print(x.shape)\n",
    "# print(x)\n",
    "# print(w.T@x)\n",
    "# b = np.mean(y - np.sum(w.T@x))\n",
    "# print(b)\n",
    "\n",
    "print(y.shape)\n",
    "print(b.shape)\n",
    "print(sum(w.T@x).shape)\n",
    "print(sum(np.multiply(w.T, np.diagonal(x))).shape)\n",
    "print(np.sum(np.multiply(w.T, np.diagonal(x))))\n"
   ]
  },
  {
   "cell_type": "code",
   "execution_count": null,
   "metadata": {},
   "outputs": [],
   "source": [
    "np.multiply(w.T, np.diagonal(x))\n",
    "# np.diagonal(x)\n",
    "# w"
   ]
  },
  {
   "cell_type": "code",
   "execution_count": null,
   "metadata": {},
   "outputs": [],
   "source": []
  },
  {
   "cell_type": "code",
   "execution_count": null,
   "metadata": {},
   "outputs": [],
   "source": []
  }
 ],
 "metadata": {
  "kernelspec": {
   "display_name": "Python 3",
   "language": "python",
   "name": "python3"
  },
  "language_info": {
   "codemirror_mode": {
    "name": "ipython",
    "version": 3
   },
   "file_extension": ".py",
   "mimetype": "text/x-python",
   "name": "python",
   "nbconvert_exporter": "python",
   "pygments_lexer": "ipython3",
   "version": "3.7.4"
  }
 },
 "nbformat": 4,
 "nbformat_minor": 2
}
