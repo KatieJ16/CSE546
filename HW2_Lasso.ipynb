{
 "cells": [
  {
   "cell_type": "code",
   "execution_count": 1,
   "metadata": {},
   "outputs": [],
   "source": [
    "import numpy as np\n",
    "import matplotlib.pyplot as plt\n"
   ]
  },
  {
   "cell_type": "code",
   "execution_count": 79,
   "metadata": {},
   "outputs": [
    {
     "name": "stdout",
     "output_type": "stream",
     "text": [
      "x shape (500, 1000)\n",
      "y shape (500,)\n"
     ]
    }
   ],
   "source": [
    "n = 500\n",
    "d = 1000\n",
    "k = 100\n",
    "sigma = 1\n",
    "\n",
    "#make w array\n",
    "w = np.zeros(d)\n",
    "for j in range(k):\n",
    "    w[j] = j/k\n",
    "    \n",
    "\n",
    "x = np.random.normal(size=(n, d))\n",
    "y = w @ x.T + np.random.normal(0, sigma, size=(n))\n",
    "\n",
    "print(\"x shape\", x.shape)\n",
    "print(\"y shape\", y.shape)"
   ]
  },
  {
   "cell_type": "code",
   "execution_count": 91,
   "metadata": {},
   "outputs": [],
   "source": [
    "def CDA(x, y, lam, delta = 10e-8):\n",
    "    going = True\n",
    "    (n,d) = x.shape\n",
    "    w = np.ones((1,d))\n",
    "    w_prev = np.copy(w)\n",
    "    count = 0\n",
    "    while going:\n",
    "        b = np.mean(y - w@x.T)\n",
    "        for k in range(d):\n",
    "            ak = 2 * np.linalg.norm(x[:,k])**2\n",
    "            ck = 0\n",
    "            for i in range(n):\n",
    "                summation = 0\n",
    "                for j in range(d):\n",
    "                    if j !=k:\n",
    "                        summation += w[0,j] * x[i,j]\n",
    "#                 print(\"summation = \", summation)\n",
    "                ck += 2* x[i, k]*(y[i] - (b + summation)) \n",
    "\n",
    "            if(ck < -lam):\n",
    "                w[0, k] = (ck+lam)/ak\n",
    "            elif (ck>lam):\n",
    "                w[0, k] = (ck-lam)/ak\n",
    "            else:\n",
    "                w[0, k] = 0\n",
    "                \n",
    "                \n",
    "        #Check if converged\n",
    "        diff = np.max(np.abs(w - w_prev))\n",
    "        print(\"diff = \", np.max(np.abs(w - w_prev)))\n",
    "        if( np.max(np.abs(w - w_prev)) < delta):\n",
    "#         if(np.max(np.abs(w - w_prev)) < delta):\n",
    "#             print(\"max = \", np.max(np.abs(w - w_prev)))\n",
    "            return w\n",
    "        if(count > 100):\n",
    "            print(\"count stopped it\")\n",
    "            return w\n",
    "        count += 1\n",
    "        \n",
    "        w_prev = np.copy(w)\n",
    "        \n",
    "def CDA_better(x, y, lam, delta = 10e-8):\n",
    "    going = True\n",
    "    (n,d) = x.shape\n",
    "    w = np.zeros((d,))\n",
    "    w_prev = np.copy(w)\n",
    "    count = 0\n",
    "    while going:\n",
    "        b = np.mean(y - w@x.T)\n",
    "        a = 2*np.sum(np.abs(x)**2,axis=0)\n",
    "        for k in range(d):\n",
    "#             ak = 2 * np.linalg.norm(x[:,k])**2\n",
    "            x_new = np.append(x[:,:k], x[:,k+1:], axis = 1)\n",
    "            w_new = np.append(w[:k], w[k+1:])\n",
    "#             print(\"summation ?= \", np.sum(w_new@x_new.T))\n",
    "            ck = 2 * np.sum(x[:,k] @ (y - (b + w_new@x_new.T)))\n",
    "            if(ck < -lam):\n",
    "                w[k] = (ck+lam)/(a[k])\n",
    "            elif (ck>lam):\n",
    "                w[k] = (ck-lam)/(a[k])\n",
    "            else:\n",
    "                w[k] = 0\n",
    "                \n",
    "#         return w\n",
    "                \n",
    "\n",
    "        \n",
    "        #Check if converged\n",
    "        diff = np.max(np.abs(w - w_prev))\n",
    "        if count % 100 == 0:\n",
    "            print(\"count = \", count)\n",
    "            print(\"diff = \", np.max(np.abs(w - w_prev)))\n",
    "        if( np.max(np.abs(w - w_prev)) < delta):\n",
    "#             print(\"max = \", np.max(np.abs(w - w_prev)))\n",
    "            print(\"count = \", count)\n",
    "            return w\n",
    "#         if(count > 1000):\n",
    "#             print(\"count stopped it\")\n",
    "#             return w\n",
    "        count += 1\n",
    "        \n",
    "        w_prev = np.copy(w)"
   ]
  },
  {
   "cell_type": "code",
   "execution_count": 74,
   "metadata": {},
   "outputs": [],
   "source": [
    "def find_lam_max(x, y, d):\n",
    "    lam_max_list = np.zeros(d)\n",
    "    for k in range(d):\n",
    "        summation = 0\n",
    "        for i in range(n):\n",
    "            summation += x[i,k] * (y[i] - np.mean(y))*2\n",
    "        lam_max_list[k] = summation\n",
    "    return np.max(lam_max_list)\n"
   ]
  },
  {
   "cell_type": "code",
   "execution_count": 83,
   "metadata": {},
   "outputs": [],
   "source": [
    "def FDR(w, k):\n",
    "    #true w has zero from k +1 to end\n",
    "    try:\n",
    "        return np.count_nonzero(w[(k+1):])/np.count_nonzero(w)\n",
    "    except:\n",
    "        return 0\n",
    "\n",
    "def TPR(w, k):\n",
    "    #true w has zero from k +1 to end\n",
    "    return np.count_nonzero(w[:k])/k"
   ]
  },
  {
   "cell_type": "code",
   "execution_count": null,
   "metadata": {},
   "outputs": [
    {
     "name": "stdout",
     "output_type": "stream",
     "text": [
      "23\n",
      "count =  0\n",
      "diff =  0.9483596384090985\n"
     ]
    }
   ],
   "source": [
    "# num_lams = 100\n",
    "# scale_fac = 1.5\n",
    "# num_nonzero_list = []\n",
    "# lam_list = []\n",
    "# FDR_list = []\n",
    "# TPR_list = []\n",
    "\n",
    "\n",
    "# lam = find_lam_max(x, y, d)\n",
    "\n",
    "# print(\"better = \", CDA_better(np.copy(x), np.copy(y), 2.67173740e-02))\n",
    "# print(\"not better = \", CDA(np.copy(x), np.copy(y), lam/10))\n",
    "# for i in range(num_lams):\n",
    "# i = 0\n",
    "# num_nonzero = 0\n",
    "while num_nonzero <= (d-5):\n",
    "    print(i)\n",
    "    i += 1\n",
    "    w = CDA_better(x, y, lam, delta = 1e-3)\n",
    "#     w = CDA(x, y, lam)\n",
    "    num_nonzero= np.count_nonzero(w)\n",
    "    num_nonzero_list.append(num_nonzero)\n",
    "#     print(\"num terms = \",num_nonzero)\n",
    "    FDR_list.append(FDR(w, k))\n",
    "    TPR_list.append(TPR(w, k))\n",
    "    lam_list.append(lam)\n",
    "    lam = lam/scale_fac\n",
    "    \n",
    "    print(\"num_nonzero_list = \", num_nonzero_list)\n",
    "    print(\"FDR_list = \", FDR_list)\n",
    "    print(\"TPR_list = \", TPR_list)\n",
    "    print(\"lam_list = \", lam_list)\n",
    "\n",
    "# print(CDA(x, y, lam_max))"
   ]
  },
  {
   "cell_type": "code",
   "execution_count": 90,
   "metadata": {},
   "outputs": [
    {
     "name": "stdout",
     "output_type": "stream",
     "text": [
      "num_nonzero_list =  [0, 9, 32, 60, 85, 107, 137, 176, 226, 280, 345, 386, 425, 452, 492, 524, 573, 590, 622, 676, 691]\n",
      "FDR_list =  [0, 0.0, 0.09375, 0.11666666666666667, 0.16470588235294117, 0.2616822429906542, 0.3795620437956204, 0.5113636363636364, 0.6017699115044248, 0.675, 0.736231884057971, 0.7616580310880829, 0.7858823529411765, 0.8008849557522124, 0.8089430894308943, 0.8206106870229007, 0.8342059336823735, 0.8389830508474576, 0.8456591639871383, 0.8594674556213018, 0.8610709117221418]\n",
      "TPR_list =  [0.0, 0.09, 0.29, 0.53, 0.71, 0.79, 0.85, 0.86, 0.9, 0.91, 0.91, 0.92, 0.91, 0.9, 0.94, 0.94, 0.95, 0.95, 0.96, 0.95, 0.96]\n",
      "lam_list =  [1473.5412953176701, 982.3608635451134, 654.907242363409, 436.6048282422726, 291.0698854948484, 194.04659032989892, 129.36439355326596, 86.24292903551064, 57.49528602367376, 38.33019068244918, 25.553460454966118, 17.035640303310746, 11.357093535540498, 7.571395690360332, 5.047597126906888, 3.365064751271259, 2.2433765008475057, 1.4955843338983372, 0.9970562225988915, 0.664704148399261, 0.4431360989328406]\n"
     ]
    }
   ],
   "source": [
    "print(\"num_nonzero_list = \", num_nonzero_list)\n",
    "print(\"FDR_list = \", FDR_list)\n",
    "print(\"TPR_list = \", TPR_list)\n",
    "print(\"lam_list = \", lam_list)"
   ]
  },
  {
   "cell_type": "code",
   "execution_count": 85,
   "metadata": {},
   "outputs": [
    {
     "name": "stdout",
     "output_type": "stream",
     "text": [
      "[1473.5412953176701, 982.3608635451134, 654.907242363409, 436.6048282422726, 291.0698854948484, 194.04659032989892, 129.36439355326596, 86.24292903551064, 57.49528602367376, 38.33019068244918, 25.553460454966118, 17.035640303310746, 11.357093535540498, 7.571395690360332, 5.047597126906888, 3.365064751271259, 2.2433765008475057, 1.4955843338983372, 0.9970562225988915, 0.664704148399261, 0.4431360989328406]\n",
      "[0, 9, 32, 60, 85, 107, 137, 176, 226, 280, 345, 386, 425, 452, 492, 524, 573, 590, 622, 676, 691]\n"
     ]
    },
    {
     "data": {
      "image/png": "[encoded data removed]",
      "text/plain": [
       "<Figure size 432x288 with 1 Axes>"
      ]
     },
     "metadata": {
      "needs_background": "light"
     },
     "output_type": "display_data"
    }
   ],
   "source": [
    "\n",
    "print(lam_list)\n",
    "print(num_nonzero_list)\n",
    "plt.plot(lam_list, num_nonzero_list)\n",
    "plt.xlabel(r'$\\lambda$')\n",
    "plt.ylabel('Number of nonzero terms')\n",
    "plt.xscale('log')"
   ]
  },
  {
   "cell_type": "code",
   "execution_count": null,
   "metadata": {},
   "outputs": [],
   "source": [
    "# print(w.shape)\n",
    "# print(x.shape)\n",
    "# print(x)\n",
    "# print(w.T@x)\n",
    "# b = np.mean(y - np.sum(w.T@x))\n",
    "# print(b)\n",
    "\n",
    "print(y.shape)\n",
    "print(b.shape)\n",
    "print(sum(w.T@x).shape)\n",
    "print(sum(np.multiply(w.T, np.diagonal(x))).shape)\n",
    "print(np.sum(np.multiply(w.T, np.diagonal(x))))\n"
   ]
  },
  {
   "cell_type": "code",
   "execution_count": null,
   "metadata": {},
   "outputs": [],
   "source": [
    "np.multiply(w.T, np.diagonal(x))\n",
    "# np.diagonal(x)\n",
    "# w"
   ]
  },
  {
   "cell_type": "code",
   "execution_count": null,
   "metadata": {},
   "outputs": [],
   "source": []
  },
  {
   "cell_type": "code",
   "execution_count": null,
   "metadata": {},
   "outputs": [],
   "source": []
  }
 ],
 "metadata": {
  "kernelspec": {
   "display_name": "Python 3",
   "language": "python",
   "name": "python3"
  }
 },
 "nbformat": 4,
 "nbformat_minor": 2
}
