{
 "cells": [
  {
   "cell_type": "code",
   "execution_count": 185,
   "metadata": {},
   "outputs": [
    {
     "name": "stdout",
     "output_type": "stream",
     "text": [
      "original shape =  (60000, 784)\n",
      "new shape =  (12223, 784)\n",
      "num labels =  12223\n",
      "[2 7]\n",
      "[1032 1028]\n",
      "original shape =  (60000, 784)\n",
      "new shape =  (2060, 784)\n",
      "num labels =  2060\n"
     ]
    }
   ],
   "source": [
    "# import numpy as np\n",
    "# import matplotlib.pyplot as plt\n",
    "# from mnist import MNIST\n",
    "\n",
    "# # def load_dataset():\n",
    "# mndata = MNIST('./')\n",
    "# mndata.gz = True\n",
    "\n",
    "# X_train_raw, labels_train_raw = mndata.load_training()\n",
    "# X_test_raw, labels_test_raw = mndata.load_testing()\n",
    "# X_train_raw = np.array(X_train_raw)/255.0\n",
    "# X_test_raw = np.array(X_train_raw)/255.0\n",
    "    \n",
    "idx2 = []\n",
    "idx7 = []\n",
    "#sort \n",
    "for i in range(len(labels_train_raw)):\n",
    "    if(labels_train_raw[i] == 2):\n",
    "        idx2.append(i)\n",
    "    elif(labels_train_raw[i] == 7):\n",
    "#         print(i)\n",
    "        idx2.append(i)\n",
    "x = X_train_raw[idx2+idx7]\n",
    "y = np.array(np.array(labels_train_raw)[idx2+idx7],dtype='int')\n",
    "y[y <3] = -1\n",
    "y[y >3] = 1\n",
    "print(\"original shape = \", X_train_raw.shape)\n",
    "print(\"new shape = \", x.shape)\n",
    "print(\"num labels = \", len(y))\n",
    "\n",
    "idx2 = []\n",
    "idx7 = []\n",
    "#sort \n",
    "for i in range(len(labels_test_raw)):\n",
    "    if(labels_test_raw[i] == 2):\n",
    "        idx2.append(i)\n",
    "    elif(labels_test_raw[i] == 7):\n",
    "        idx7.append(i)\n",
    "x_test = X_test_raw[idx2+idx7]\n",
    "y_test = np.array(np.array(labels_test_raw)[idx2+idx7],dtype='int')\n",
    "(unique, counts) = np.unique(y_test, return_counts=True)\n",
    "print(unique)\n",
    "print(counts)\n",
    "y_test[y_test <3] = -1\n",
    "y_test[y_test >3] = 1\n",
    "print(\"original shape = \", X_test_raw.shape)\n",
    "print(\"new shape = \", x_test.shape)\n",
    "print(\"num labels = \", len(y_test))\n",
    "\n"
   ]
  },
  {
   "cell_type": "code",
   "execution_count": 186,
   "metadata": {},
   "outputs": [
    {
     "name": "stdout",
     "output_type": "stream",
     "text": [
      "[-1  1]\n",
      "[1032 1028]\n"
     ]
    }
   ],
   "source": [
    "(unique, counts) = np.unique(y_test, return_counts=True)\n",
    "print(unique)\n",
    "print(counts)"
   ]
  },
  {
   "cell_type": "code",
   "execution_count": 184,
   "metadata": {},
   "outputs": [],
   "source": [
    "def single_step(w, b, x, y, lam, eta):\n",
    "    (n,d) = x.shape\n",
    "    u = 1/(1+np.exp(-y*(b+x@w)))\n",
    "    dw = np.sum((1-u)*(-x.T*y)/n, axis = 1) + 2*lam*w\n",
    "    db = np.sum((1-u)*(-y))/n\n",
    "    w_new = w - eta * dw\n",
    "    b_new = b - eta * db\n",
    "    return (w_new, b_new)\n",
    "\n",
    "def find_J(w,b, x, y, lam):\n",
    "    (n,d) = x.shape\n",
    "#     print(1+np.exp(-y*(b+x@w)))\n",
    "    return(np.sum(np.log(1+np.exp(-y*(b+x@w))))/n + lam * np.linalg.norm(w)**2)\n",
    "\n",
    "def find_error(w, b, x, y):\n",
    "    (n,d) = x.shape\n",
    "    pred = np.sign(b+x@w)\n",
    "    num_diff = np.sum((np.abs(pred - y)))/2\n",
    "#     print(np.abs(pred - y))\n",
    "    return num_diff/n"
   ]
  },
  {
   "cell_type": "code",
   "execution_count": 182,
   "metadata": {},
   "outputs": [
    {
     "name": "stdout",
     "output_type": "stream",
     "text": [
      "[2. 2. 2. ... 0. 0. 0.]\n"
     ]
    },
    {
     "data": {
      "text/plain": [
       "0.5009708737864078"
      ]
     },
     "execution_count": 182,
     "metadata": {},
     "output_type": "execute_result"
    }
   ],
   "source": [
    "find_error(w, b, x_test, y_test)"
   ]
  },
  {
   "cell_type": "code",
   "execution_count": 187,
   "metadata": {},
   "outputs": [
    {
     "data": {
      "image/png": "[encoded data removed]",
      "text/plain": [
       "<Figure size 432x288 with 1 Axes>"
      ]
     },
     "metadata": {
      "needs_background": "light"
     },
     "output_type": "display_data"
    },
    {
     "data": {
      "image/png": "[encoded data removed]",
      "text/plain": [
       "<Figure size 432x288 with 1 Axes>"
      ]
     },
     "metadata": {
      "needs_background": "light"
     },
     "output_type": "display_data"
    }
   ],
   "source": [
    "lam = 1e-1\n",
    "eta = 0.01\n",
    "(n,d) = x.shape\n",
    "w = np.zeros(d)\n",
    "b = 0\n",
    "J_list = []\n",
    "J_test_list = []\n",
    "error_list = []\n",
    "error_test_list = []\n",
    "\n",
    "for i in range(50):\n",
    "    w,b = single_step(w, b, x, y, lam, eta)\n",
    "    J_list.append(find_J(w,b, x, y, lam))\n",
    "    J_test_list.append(find_J(w,b, x_test, y_test, lam))\n",
    "    error_list.append(find_error(w, b, x, y))\n",
    "    error_test_list.append(find_error(w, b, x_test, y_test))\n",
    "    \n",
    "plt.plot(J_list, label = \"Training\")\n",
    "plt.plot(J_test_list,  label = \"Testing\")\n",
    "plt.legend()\n",
    "plt.show()\n",
    "\n",
    "plt.plot(error_list, label = \"Training\")\n",
    "plt.plot(error_test_list,  label = \"Testing\")\n",
    "plt.legend()\n",
    "plt.show()"
   ]
  },
  {
   "cell_type": "code",
   "execution_count": 147,
   "metadata": {},
   "outputs": [
    {
     "data": {
      "text/plain": [
       "[0.6403540207893966,\n",
       " 0.5946814310149459,\n",
       " 0.5551588123536756,\n",
       " 0.5209136609155621,\n",
       " 0.49118170582430093,\n",
       " 0.4653054651707337,\n",
       " 0.4427261305955102,\n",
       " 0.42297236239530434,\n",
       " 0.4056482923245531,\n",
       " 0.39042203911964635,\n",
       " 0.3770153712511438,\n",
       " 0.3651947415936372,\n",
       " 0.35476369103619204,\n",
       " 0.34555650596726123,\n",
       " 0.33743297041166964,\n",
       " 0.3302740464503253,\n",
       " 0.3239783276840518,\n",
       " 0.31845912921162867,\n",
       " 0.31364209813295524,\n",
       " 0.30946324812067233,\n",
       " 0.3058673389139538,\n",
       " 0.3028065363280765,\n",
       " 0.30023930062254806,\n",
       " 0.2981294610954068,\n",
       " 0.29644544289732694,\n",
       " 0.29515961860762024,\n",
       " 0.2942477623742192,\n",
       " 0.2936885886386867,\n",
       " 0.2934633608508087,\n",
       " 0.29355555829304825,\n",
       " 0.29395059131815043,\n",
       " 0.2946355570615318,\n",
       " 0.2955990291097387,\n",
       " 0.29683087575549455,\n",
       " 0.29832210240280055,\n",
       " 0.30006471444514077,\n",
       " 0.3020515975601356,\n",
       " 0.3042764128720636,\n",
       " 0.30673350485107465,\n",
       " 0.3094178201618557,\n",
       " 0.31232483595872435,\n",
       " 0.31545049635965944,\n",
       " 0.31879115602748187,\n",
       " 0.32234352994945054,\n",
       " 0.3261046486426937,\n",
       " 0.33007181812688247,\n",
       " 0.3342425841011651,\n",
       " 0.3386146998427497,\n",
       " 0.34318609741221856,\n",
       " 0.3479548618077435]"
      ]
     },
     "execution_count": 147,
     "metadata": {},
     "output_type": "execute_result"
    }
   ],
   "source": [
    "J_list"
   ]
  },
  {
   "cell_type": "code",
   "execution_count": null,
   "metadata": {},
   "outputs": [],
   "source": []
  }
 ],
 "metadata": {
  "kernelspec": {
   "display_name": "Python 3",
   "language": "python",
   "name": "python3"
  },
  "language_info": {
   "codemirror_mode": {
    "name": "ipython",
    "version": 3
   },
   "file_extension": ".py",
   "mimetype": "text/x-python",
   "name": "python",
   "nbconvert_exporter": "python",
   "pygments_lexer": "ipython3",
   "version": "3.7.4"
  }
 },
 "nbformat": 4,
 "nbformat_minor": 2
}
